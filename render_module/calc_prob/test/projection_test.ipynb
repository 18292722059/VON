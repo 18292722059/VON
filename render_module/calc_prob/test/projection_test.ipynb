{
 "cells": [
  {
   "cell_type": "code",
   "execution_count": 2,
   "metadata": {},
   "outputs": [],
   "source": [
    "import sys\n",
    "sys.path.append('/data/vision/billf/jwu-phys/texture/ztzhang/code/vtn/')\n",
    "import vtn\n",
    "from vtn.functions.grid_sample3d import grid_sample3d\n",
    "from torch import nn,FloatTensor,DoubleTensor\n",
    "import torch\n",
    "import numpy as np\n",
    "from torch.autograd import Function,Variable,gradcheck\n",
    "from torch.autograd.function import once_differentiable\n",
    "import matplotlib\n",
    "import matplotlib.pyplot as plot\n",
    "from scipy.io import loadmat\n",
    "from numba import jit\n",
    "\n",
    "\n",
    "\n",
    "#numtype = np.float32\n",
    "#m = loadmat('/data/vision/billf/jwu-phys/shape_oneshot/ztzhang/test/test_orig.mat')\n",
    "\n",
    "\n",
    "class GridGen3D(Function):\n",
    "    @staticmethod\n",
    "    def forward(ctx,voxel_shape,nsamples_factor=1.0, res=128,numtype=np.float64, dist=2.0, fl=0.012, w=0.032):\n",
    "        n,c,sx,sy,sz = voxel_shape\n",
    "        nsamples = int(sz*nsamples_factor)\n",
    "        grid = np.zeros([n,nsamples,res,res,3],dtype=numtype)\n",
    "        h_linspace = np.linspace(w/2, -w/2, res)\n",
    "        w_linspace = np.linspace(w/2, -w/2, res)\n",
    "        H,W = np.meshgrid(h_linspace, w_linspace)\n",
    "        cam = np.array([[[-dist,0,0]]])\n",
    "        grid_vec = np.zeros([res,res,3],dtype=numtype)\n",
    "        grid_vec[:,:,1] = W\n",
    "        grid_vec[:,:,2] = H\n",
    "        grid_vec[:,:,0] = -(dist-fl)\n",
    "        grid_vec = grid_vec-cam\n",
    "        grid_vec_a = grid_vec * (1/fl)\n",
    "        grid_vec_b = grid_vec * (3/fl)\n",
    "        for idn in range(n):\n",
    "            for ids in range(nsamples):\n",
    "                grid[idn,ids,:,:,:] = grid_vec_b - (1-ids/nsamples)*(grid_vec_b-grid_vec_a)\n",
    "        grid = grid + cam\n",
    "        return torch.from_numpy(grid.astype(numtype))\n",
    "    def backward(ctx,gradin):\n",
    "        raise NotImplemented\n",
    "\n",
    "\n",
    "\n",
    "class calc_stop_prob(Function):\n",
    "    @staticmethod\n",
    "    def forward(ctx, aligned_voxel,fake=1):\n",
    "        #print(aligned_voxel.shape)\n",
    "        n,c,sx,sy,sz = aligned_voxel.shape\n",
    "        #print(type(aligned_voxel))\n",
    "       \n",
    "        stop_prob = aligned_voxel.new(aligned_voxel.shape)\n",
    "        stop_prob.zero_()\n",
    "        #print(stop_prob.shape)\n",
    "        for idz in range(sz):\n",
    "            if idz==0:\n",
    "                stop_prob[:,:,:,:,idz]=aligned_voxel[:,:,:,:,idz]\n",
    "            else:\n",
    "                stop_prob[:,:,:,:,idz] = stop_prob[:,:,:,:,idz-1]*((1/aligned_voxel[:,:,:,:,idz-1])-1)*aligned_voxel[:,:,:,:,idz]\n",
    "        ctx.save_for_backward(stop_prob,aligned_voxel)\n",
    "        return stop_prob\n",
    "    @once_differentiable\n",
    "    def backward(ctx,grad_in):\n",
    "        stop_prob, aligned_voxel = ctx.saved_tensors\n",
    "        n,c,sx,sy,sz = stop_prob.shape\n",
    "        head = stop_prob.new(torch.zeros([n,c,sx,sy]).shape)\n",
    "        head.zero_()\n",
    "        delay_sum = stop_prob.new(torch.zeros([n,c,sx,sy]).shape)\n",
    "        delay_sum.zero_()\n",
    "        grad_out = stop_prob.new(stop_prob.shape)\n",
    "        grad_out.zero_()\n",
    "        stop_prob_weighted = stop_prob*grad_in\n",
    "        #print(stop_prob_weighted)\n",
    "        for idz in reversed(range(sz)):\n",
    "            if idz==sz-1:\n",
    "                grad_out[:,:,:,:,idz] = stop_prob_weighted[:,:,:,:,idz]/aligned_voxel[:,:,:,:,idz]\n",
    "                head = stop_prob_weighted[:,:,:,:,idz]/aligned_voxel[:,:,:,:,idz]\n",
    "            else:\n",
    "                cur_layer_prob = aligned_voxel[:,:,:,:,idz]\n",
    "                prev_layer_prob = aligned_voxel[:,:,:,:,idz+1]\n",
    "                cur_layer_accum_prob = stop_prob_weighted[:,:,:,:,idz]\n",
    "                v1 = cur_layer_accum_prob/cur_layer_prob\n",
    "                v2 = head * prev_layer_prob / (1-cur_layer_prob)\n",
    "                v3 = delay_sum * (1-prev_layer_prob)/(1-cur_layer_prob)\n",
    "                delay_sum = v2+v3\n",
    "                head = v1\n",
    "                grad_out[:,:,:,:,idz] = v1-v2-v3\n",
    "        return grad_out,None\n",
    "            \n",
    "        \n",
    "        \n",
    "        \n",
    "                \n",
    "            \n",
    "    "
   ]
  },
  {
   "cell_type": "code",
   "execution_count": 3,
   "metadata": {},
   "outputs": [
    {
     "name": "stdout",
     "output_type": "stream",
     "text": [
      "torch.Size([1, 1, 10, 10, 10])\n"
     ]
    },
    {
     "data": {
      "text/plain": [
       "True"
      ]
     },
     "execution_count": 3,
     "metadata": {},
     "output_type": "execute_result"
    }
   ],
   "source": [
    "Ggen = GridGen3D()\n",
    "n = 1\n",
    "c = 1\n",
    "sx,sy,sz= [5,5,5]\n",
    "test_vox = torch.rand([n,c,sx,sy,sz]).double()\n",
    "grid = Ggen.apply(test_vox.shape, 2.0, 10,np.float64)\n",
    "out = grid_sample3d(test_vox,grid)\n",
    "c = calc_stop_prob()\n",
    "out = torch.clamp(out,0.1, 0.9)\n",
    "out = out.permute(0,1,3,4,2)\n",
    "print(out.shape)\n",
    "out = Variable(out.data,requires_grad=True)\n",
    "gradcheck(calc_stop_prob().apply, (out,1), eps=1e-6, atol=1e-4)\n",
    "\n",
    "#vout = c.apply(out)\n",
    "#vout.backward(Variable(torch.FloatTensor([[[[[1,0,0]]]]])))\n",
    "#print(out.grad)\n",
    "#plot.imshow(np.sum(vout.data.numpy()[0,0,:,:,:],axis=2))\n",
    "#plot.colorbar()\n",
    "#loss = torch.sum(vout)\n",
    "#grad_in = torch.ones([n,1,sz,sz,sz])\n",
    "#out.data.shape\n",
    "#print(vout.data)"
   ]
  },
  {
   "cell_type": "code",
   "execution_count": 20,
   "metadata": {},
   "outputs": [],
   "source": [
    "# forward_consistency_check\n",
    "n = 1\n",
    "c = 1\n",
    "sx,sy,sz= [5,5,5]\n",
    "test_vox = torch.rand([n,c,sx,sy,sz])\n",
    "grid = Ggen.apply(test_vox.shape, 2.0, 10,np.float32)\n",
    "out = grid_sample3d(test_vox,grid)\n",
    "c = calc_stop_prob()\n",
    "out = torch.clamp(out,0.1, 0.9)\n",
    "out = out.permute(0,1,3,4,2)\n",
    "out_cpu = Variable(out.data,requires_grad=True)\n",
    "cpu_calc = calc_stop_prob()\n",
    "cpu_out = cpu_calc.apply(out_cpu)\n",
    "grad_in = torch.rand(cpu_out.shape)\n",
    "grad_in_cpu = Variable(grad_in)\n",
    "cpu_grad = cpu_out.backward(grad_in_cpu)"
   ]
  },
  {
   "cell_type": "code",
   "execution_count": 21,
   "metadata": {},
   "outputs": [
    {
     "name": "stdout",
     "output_type": "stream",
     "text": [
      "-------------------------------------  ---------------  ---------------  ---------------  ---------------  ---------------\n",
      "Name                                          CPU time        CUDA time            Calls        CPU total       CUDA total\n",
      "-------------------------------------  ---------------  ---------------  ---------------  ---------------  ---------------\n",
      "CalcStopProb                                 248.555us          0.000us                1        248.555us          0.000us\n",
      "N5torch8autograd9GraphRootE                   14.524us          0.000us                1         14.524us          0.000us\n",
      "CalcStopProbBackward                         604.310us          0.000us                1        604.310us          0.000us\n",
      "N5torch8autograd12DelayedErrorE                8.405us          0.000us                1          8.405us          0.000us\n",
      "N5torch8autograd14AccumulateGradE             65.242us          0.000us                1         65.242us          0.000us\n",
      "N5torch8autograd5CloneE                       59.352us          0.000us                1         59.352us          0.000us\n",
      "\n"
     ]
    }
   ],
   "source": [
    "from calc_prob.functions.calc_prob import CalcStopProb\n",
    "out_gpu = Variable(out.data.cuda(),requires_grad=True)\n",
    "grad_in_gpu = Variable(grad_in.cuda())\n",
    "with torch.autograd.profiler.profile() as prof:\n",
    "    gpu_out = CalcStopProb.apply(out_gpu)\n",
    "    gpu_grad = gpu_out.backward(grad_in_gpu)\n",
    "print(prof)"
   ]
  },
  {
   "cell_type": "code",
   "execution_count": 269,
   "metadata": {},
   "outputs": [
    {
     "data": {
      "text/plain": [
       "torch.Size([2, 256, 128, 128, 3])"
      ]
     },
     "execution_count": 269,
     "metadata": {},
     "output_type": "execute_result"
    }
   ],
   "source": [
    "grid.data.shape"
   ]
  },
  {
   "cell_type": "code",
   "execution_count": 12,
   "metadata": {},
   "outputs": [],
   "source": [
    "out = grid_sample3d(test_vox,grid)\n",
    "s = out.data.numpy()"
   ]
  },
  {
   "cell_type": "code",
   "execution_count": 13,
   "metadata": {},
   "outputs": [
    {
     "data": {
      "text/plain": [
       "(2, 1, 384, 128, 128)"
      ]
     },
     "execution_count": 13,
     "metadata": {},
     "output_type": "execute_result"
    }
   ],
   "source": [
    "s.shape"
   ]
  },
  {
   "cell_type": "code",
   "execution_count": 14,
   "metadata": {},
   "outputs": [],
   "source": [
    "v = np.transpose(s,(0,1,3,4,2))\n",
    "aligned_voxels = v+1e-6\n",
    "n,c,sx,sy,sz = aligned_voxels.shape\n",
    "sil = np.zeros([n,c,sx,sy])\n",
    "temp_prob = np.zeros([n,c,sx,sy,sz])\n",
    "for idz in range(sz):\n",
    "    if idz==0:\n",
    "        temp_prob[:,:,:,:,idz]=aligned_voxels[:,:,:,:,idz]\n",
    "    else:\n",
    "        temp_prob[:,:,:,:,idz] = temp_prob[:,:,:,:,idz-1]*((1/aligned_voxels[:,:,:,:,idz-1])-1)*aligned_voxels[:,:,:,:,idz]\n",
    "exp_sil = np.sum(temp_prob, axis=4)\n",
    "depth = np.linspace(10,20,sz)\n",
    "d = np.dot(temp_prob,depth)"
   ]
  },
  {
   "cell_type": "code",
   "execution_count": null,
   "metadata": {},
   "outputs": [],
   "source": [
    "temp_prob.shape\n",
    "depth.shape"
   ]
  },
  {
   "cell_type": "code",
   "execution_count": 20,
   "metadata": {},
   "outputs": [
    {
     "data": {
      "text/plain": [
       "8.83728862532962e-07"
      ]
     },
     "execution_count": 20,
     "metadata": {},
     "output_type": "execute_result"
    }
   ],
   "source": [
    "t1 = torch.from_numpy(temp_prob.astype(np.float32))\n",
    "depth = np.linspace(10,20,sz)\n",
    "t2 = torch.from_numpy(depth.astype(np.float32))\n",
    "out = torch.matmul(t1,t2)\n",
    "np.max(out.numpy()-d)"
   ]
  },
  {
   "cell_type": "code",
   "execution_count": 312,
   "metadata": {},
   "outputs": [
    {
     "name": "stdout",
     "output_type": "stream",
     "text": [
      "2.57454252243042\n"
     ]
    }
   ],
   "source": [
    "from time import time\n",
    "t = time()\n",
    "test(s)\n",
    "print(time()-t)"
   ]
  },
  {
   "cell_type": "code",
   "execution_count": 298,
   "metadata": {},
   "outputs": [
    {
     "data": {
      "text/plain": [
       "<matplotlib.colorbar.Colorbar at 0x7ffa807186a0>"
      ]
     },
     "execution_count": 298,
     "metadata": {},
     "output_type": "execute_result"
    },
    {
     "data": {
      "image/png": "[encoded data removed]",
      "text/plain": [
       "<matplotlib.figure.Figure at 0x7ffa7e76b668>"
      ]
     },
     "metadata": {},
     "output_type": "display_data"
    }
   ],
   "source": [
    "plot.imshow(d[0,0,:,:])\n",
    "plot.colorbar()"
   ]
  },
  {
   "cell_type": "code",
   "execution_count": 301,
   "metadata": {},
   "outputs": [
    {
     "data": {
      "text/plain": [
       "<matplotlib.colorbar.Colorbar at 0x7ffa80583748>"
      ]
     },
     "execution_count": 301,
     "metadata": {},
     "output_type": "execute_result"
    },
    {
     "data": {
      "image/png": "[encoded data removed]",
      "text/plain": [
       "<matplotlib.figure.Figure at 0x7ffa80656588>"
      ]
     },
     "metadata": {},
     "output_type": "display_data"
    }
   ],
   "source": [
    "plot.imshow(exp_sil[0,0,:,:])\n",
    "plot.colorbar()"
   ]
  },
  {
   "cell_type": "code",
   "execution_count": 119,
   "metadata": {},
   "outputs": [],
   "source": [
    "a,b,c,d,e = out.data.shape"
   ]
  },
  {
   "cell_type": "code",
   "execution_count": null,
   "metadata": {},
   "outputs": [],
   "source": []
  },
  {
   "cell_type": "code",
   "execution_count": null,
   "metadata": {},
   "outputs": [],
   "source": []
  }
 ],
 "metadata": {
  "kernelspec": {
   "display_name": "Python 3",
   "language": "python",
   "name": "python3"
  },
  "language_info": {
   "codemirror_mode": {
    "name": "ipython",
    "version": 3
   },
   "file_extension": ".py",
   "mimetype": "text/x-python",
   "name": "python",
   "nbconvert_exporter": "python",
   "pygments_lexer": "ipython3",
   "version": "3.6.4"
  }
 },
 "nbformat": 4,
 "nbformat_minor": 2
}
